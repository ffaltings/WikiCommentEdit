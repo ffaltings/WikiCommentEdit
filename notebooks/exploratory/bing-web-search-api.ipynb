{
 "cells": [
  {
   "cell_type": "markdown",
   "metadata": {},
   "source": [
    "# Challenges\n",
    "\n",
    "- Without more context, search may return irrelevant answers\n",
    "    - Could use *seed* references, and then augment the reference based on those (e.g. only references that agree with seed references in a certain way?)"
   ]
  },
  {
   "cell_type": "code",
   "execution_count": 13,
   "metadata": {},
   "outputs": [],
   "source": [
    "from dotenv import load_dotenv\n",
    "load_dotenv()\n",
    "\n",
    "import os\n",
    "import itertools\n",
    "import json \n",
    "\n",
    "from azure.cognitiveservices.search.websearch import WebSearchClient\n",
    "from azure.cognitiveservices.search.websearch.models import SafeSearch\n",
    "from msrest.authentication import CognitiveServicesCredentials"
   ]
  },
  {
   "cell_type": "markdown",
   "metadata": {},
   "source": [
    "# Bing API setup"
   ]
  },
  {
   "cell_type": "code",
   "execution_count": 14,
   "metadata": {},
   "outputs": [],
   "source": [
    "subscription_key = os.getenv(\"COGNITIVE_SERVICE_KEY\")\n",
    "endpoint = os.getenv(\"COGNITIVE_ENDPOINT\")"
   ]
  },
  {
   "cell_type": "code",
   "execution_count": 15,
   "metadata": {},
   "outputs": [],
   "source": [
    "client = WebSearchClient(endpoint=endpoint, credentials=CognitiveServicesCredentials(subscription_key))"
   ]
  },
  {
   "cell_type": "code",
   "execution_count": 16,
   "metadata": {},
   "outputs": [
    {
     "name": "stderr",
     "output_type": "stream",
     "text": [
      "Subtype value Organization has no mapping, use base class Thing.\n",
      "Subtype value Organization has no mapping, use base class Thing.\n",
      "Subtype value Organization has no mapping, use base class Thing.\n",
      "Subtype value Organization has no mapping, use base class Thing.\n",
      "Subtype value Organization has no mapping, use base class Thing.\n"
     ]
    }
   ],
   "source": [
    "web_data = client.web.search(query=\"Yosemite\", count=10)"
   ]
  },
  {
   "cell_type": "code",
   "execution_count": 17,
   "metadata": {},
   "outputs": [
    {
     "data": {
      "text/plain": [
       "'https://www.nps.gov/yose/index.htm'"
      ]
     },
     "execution_count": 17,
     "metadata": {},
     "output_type": "execute_result"
    }
   ],
   "source": [
    "web_data.web_pages.value[0].url"
   ]
  },
  {
   "cell_type": "markdown",
   "metadata": {},
   "source": [
    "# Atomic Edits"
   ]
  },
  {
   "cell_type": "code",
   "execution_count": 20,
   "metadata": {},
   "outputs": [],
   "source": [
    "data_path = '/mnt/nlp-storage/data/processed/atomic-edits/atomic-edits-04192020.json'"
   ]
  },
  {
   "cell_type": "code",
   "execution_count": 21,
   "metadata": {},
   "outputs": [],
   "source": [
    "edits = []\n",
    "with open(data_path, 'r') as data:\n",
    "    for line in data:\n",
    "        edits.append(json.loads(line))"
   ]
  },
  {
   "cell_type": "code",
   "execution_count": 25,
   "metadata": {
    "scrolled": true
   },
   "outputs": [
    {
     "data": {
      "text/plain": [
       "('Chhota Katra', 'Interior')"
      ]
     },
     "execution_count": 25,
     "metadata": {},
     "output_type": "execute_result"
    }
   ],
   "source": [
    "page_title, sect_title = edits[0]['page_title'], edits[0]['section_title']\n",
    "(page_title,sect_title)"
   ]
  },
  {
   "cell_type": "code",
   "execution_count": 40,
   "metadata": {},
   "outputs": [
    {
     "name": "stdout",
     "output_type": "stream",
     "text": [
      "Inside, there is a tomb of \"Champa Bibi\", but there is no correct history regarding her identity. There was a small mosque within its enclosure which is ruined. The one-dome square Mausoleum of \"Champa Bibi\", a listed building now, was within its enclosure which was raised to the ground by Padre Shepherd.\n"
     ]
    }
   ],
   "source": [
    "print(' '.join(edits[0]['target']['context']))"
   ]
  },
  {
   "cell_type": "code",
   "execution_count": 42,
   "metadata": {},
   "outputs": [
    {
     "name": "stdout",
     "output_type": "stream",
     "text": [
      "It was later reconstructed by the archaeologists, but now lost within mazes of shops at \"Champatali\". \n",
      " It was later reconstructed by the archaeologists, but is now lost within mazes of shops at \"Champatali\".\n"
     ]
    }
   ],
   "source": [
    "print(edits[0]['source']['sentence'],'\\n', edits[0]['target']['sentence'])"
   ]
  },
  {
   "cell_type": "code",
   "execution_count": 43,
   "metadata": {},
   "outputs": [],
   "source": [
    "bing_search = client.web.search(query=page_title, count=10)"
   ]
  },
  {
   "cell_type": "code",
   "execution_count": 45,
   "metadata": {},
   "outputs": [
    {
     "name": "stdout",
     "output_type": "stream",
     "text": [
      "Chhota Katra - Wikipedia\n",
      "https://en.wikipedia.org/wiki/Chhota_Katra\n",
      "Chhota Katra is slightly smaller than Bara Katra, but similar in plan and it is about 185 metres east to it. The ruins of Chhota Katra, amidst urban encroachment. Origin. Katara is a form of cellular dormitory built around an oblong courtyard; the form ...\n",
      "\n",
      "Chhota Katra - newikis.com\n",
      "https://newikis.com/en/Chhota_Katra\n",
      "Chhota Katra (Bengali: ছোট কাটারা; Small Katra) is one of the two Katras built during Mughal's regime in Dhaka, Bangladesh.It was constructed in 1663 by Subahdar Shaista Khan.It is on Hakim Habibur Rahman lane on the bank of the Buriganga River.Basically it was built to accommodate some officials and Shaista Khan's expanding family.\n",
      "\n",
      "Chhota Katra | Archnet\n",
      "https://archnet.org/sites/4128\n",
      "Chhota Katra is located on Hakim Habibur Rahman Lane and is 600 feet east of the historic Bara Katra caravanserai. Commissioned by Nawab Shaita...\n",
      "\n",
      "Chhota Katra is a Muslim Arcological Heritage in Old Dhaka\n",
      "https://www.yogsutra.com/chhota-katra.html\n",
      "Chhota Katra is to the east of the Bara Katra. It lies on the bank of the river Buriganga near Sadarghat. The establishment year of the building is 1671. History of Chhota Katra. The construction of the building began in the year 1663. The building is similar to the Bara Katra. The size of the architecture is smaller than Bara Katra.\n",
      "\n",
      "Katra - Banglapedia\n",
      "http://en.banglapedia.org/index.php?title=Katra\n",
      "Chhota Katra is situated about 200 yards east of the Bara Katra at Hakim Habibur Rahman lane. Slightly smaller than the Bara Katra, it is similar in plan and was built almost for the same purpose. The Katra is rectangular in plan, 101.20m'92.05m externally and 81.07m'69.19m internally.\n",
      "\n",
      "Dhaka | History, Definition, & Facts | Britannica\n",
      "https://www.britannica.com/place/Dhaka\n",
      "Dhaka, city and capital of Bangladesh. It is located just north of the Buriganga River, a channel of the Dhaleswari River, in the south-central part of the country. Dhaka is Bangladesh’s most populous city and is one of the largest metropolises in South Asia. Learn more about Dhaka in this article.\n",
      "\n",
      "Collections | Reference, Regional Surveys | Islamic ...\n",
      "https://archnet.org/collections/1341/sites/4128\n",
      "Chhota Katra is located on Hakim Habibur Rahman Lane and is 600 feet east of the historic Bara Katra caravanserai. Commissioned by Nawab Shaita Khan, the plan of this caravanserai is very similar to that of the Bara Katra but is on a much smaller scale.\n",
      "\n",
      "DHAKA SOUTH CITY CORPORATION ZONAL OFFICE, ZONE - 1\n",
      "http://br.lgd.gov.bd/files/Dhaka%20city%20zonal%20office.pdf\n",
      "dhaka south city corporation zonal office, zone - 1 level - 9, west block, nagar bhaban, fulbaria ward area 15 (i) afsaruddin road, (ii) dhanmondi r.a.,\n",
      "\n",
      "Lajawab snacks Katra - YouTube\n",
      "https://www.youtube.com/watch?v=zxdgO6V-mno\n",
      "1 Chhota Lauki, 1 Chhota Baigan ,1 cup besan, 1 spoon garam masala, lal mirch powdr, lehsun adrak paste, hari mirch ,1lemon , dhaniya.\n",
      "\n",
      "Katra (Dhaka) - Wikipedia\n",
      "https://en.wikipedia.org/wiki/Katra_(Dhaka)\n",
      "Katra or Katara is the name given to Caravanserai inns in Bengal.The Bara Katra (\"greater katra\") and Chhota Katra (\"lesser katra\") refers to two magnificent Mughal katras in Dhaka, Bangladesh.. See also. Mughal architecture; References\n",
      "\n"
     ]
    }
   ],
   "source": [
    "for res in bing_search.web_pages.value:\n",
    "    print(res.name)\n",
    "    print(res.url)\n",
    "    print(res.snippet + '\\n')"
   ]
  },
  {
   "cell_type": "code",
   "execution_count": 46,
   "metadata": {},
   "outputs": [],
   "source": [
    "bing_search_st = client.web.search(query=' '.join((page_title, sect_title)), count=10)"
   ]
  },
  {
   "cell_type": "code",
   "execution_count": 47,
   "metadata": {},
   "outputs": [
    {
     "name": "stdout",
     "output_type": "stream",
     "text": [
      "Chhota Katra - Wikipedia\n",
      "https://en.wikipedia.org/wiki/Chhota_Katra\n",
      "Chhota Katra (Bengali: ছোট কাটারা; Small Katra) is one of the two Katras built during Mughal's regime in Dhaka, Bangladesh.It was constructed in 1663 by Subahdar Shaista Khan.It is on Hakim Habibur Rahman lane on the bank of the Buriganga River.Basically it was built to accommodate some officials and Shaista Khan's expanding family.\n",
      "Chhota Katra - newikis.com\n",
      "https://newikis.com/en/Chhota_Katra\n",
      "Chhota Katra (Bengali: ছোট কাটারা; Small Katra) is one of the two Katras built during Mughal's regime in Dhaka, Bangladesh.It was constructed in 1663 by Subahdar Shaista Khan.It is on Hakim Habibur Rahman lane on the bank of the Buriganga River.Basically it was built to accommodate some officials and Shaista Khan's expanding family.\n",
      "Dhaka - Historic Pictures and Photos, with Notes on ...\n",
      "https://www.skyscrapercity.com/threads/dhaka-historic-pictures-and-photos-with-notes-on-architectural-conservation.436396/\n",
      "The Chhota Katra is in a state of more dilapidation compared to that of the Bara Katra. Chhota Katra, situated about 200 yards east of Bara Katra at Chawkbazar, was built by Nawab Shayesta Khan in 1664 in line with the design of Bara Katra, but smaller in size.\n",
      "Back to Bangladesh: July 2006\n",
      "https://backtobangladesh.blogspot.com/2006/07/\n",
      "Inside Bara Katra is a Madrasa now. A kind man showed me around. Interior views: Stairs inside Bara Katra: Chhota Katra was built by Shaista Khan in 1663. D'Oyly mentions it in his \"Antiquities of Dhaka.\" It is similar to Bara Katra, but even less remains. Entrance of Chhota Katra: Inside Chhota Katra was an umbrella-making shop with these walls:\n",
      "Dhaka - Historic Pictures and Photos, with Notes on ...\n",
      "https://www.skyscrapercity.com/showthread.php?t=436396Last\n",
      "Dhaka - Historic Pictures and Photos, with Notes on Architectural Conservation Heritage, Tourism & Infrastructure\n",
      "All Listings - Shine World Wide\n",
      "https://shineworldwide.in/all-listings\n",
      "Chhota Baghara, Katra, Prayagraj, Allahabad, Prayagraj, Uttar Pradesh, 211002, India . Posted 3 months ago\n",
      "Katra to Barwāni - 6 ways to travel via train, plane, taxi ...\n",
      "https://www.rome2rio.com/s/Katra-Jammu-and-Kashm%C4%ABr-India/Barw%C4%81ni\n",
      "There are 6 ways to get from Katra to Barwāni by plane, taxi, train, bus or car. Select an option below to see step-by-step directions and to compare ticket prices and travel times in Rome2rio's travel planner.\n",
      "Bharaa.com - All Posts\n",
      "https://www.bharaa.com/all-posts/bangladesh/decorator\n",
      "Bharaa.com. POST\n",
      "Building Consultants in Katra Jaimal Singh, Amritsar ...\n",
      "https://www.sulekha.com/building-consultants-contractors/katra-jaimal-singh-amritsar\n",
      "Building Consultants and Contractors in Katra Jaimal Singh, Amritsar - Professional building construction consultants, consultancy, companies in Katra Jaimal Singh and get price quotes on house, factory construction consultants contact addresses, phone numbers, ratings, reviews and Sulekha score instantly to your mobile.\n",
      "Category:Dhaka - WikiVisually\n",
      "https://wikivisually.com/wiki/Category:Dhaka\n",
      "Category:Dhaka. From Wikipedia, the free encyclopedia. Jump to navigation Jump to search. Wikimedia Commons has media related to Dhaka. The main article for this category is Dhaka. Subcategories. This category has the following 20 subcategories, out of 20 total. B\n"
     ]
    }
   ],
   "source": [
    "for res in bing_search_st.web_pages.value:\n",
    "    print(res.name)\n",
    "    print(res.url)\n",
    "    print(res.snippet)"
   ]
  },
  {
   "cell_type": "markdown",
   "metadata": {},
   "source": [
    "# Potential Issues to Address\n",
    "\n",
    "- Sites that duplicate wikipedia information\n",
    "    - Could remove domains that contain the word \"wiki\"\n",
    "- Incomplete snippets\n",
    "    - May not be an issue, but could also complete the text using the url\n",
    "- Irrelevant results\n",
    "    - Maybe this is a downstream concern, not all information in the grounding corpus will be relevant to each edit\n",
    "    - What happens when the page is very short? Not a lot to go off of to determine what information is relevant\n",
    "\n",
    "# Advantages of Bing API\n",
    "- Can form advanced queries to leverage Bing capabilities.\n",
    "- Relatively fast (and cheap), provides snippets\n",
    "- Can consider as a \"pre\" information retrievel step\n",
    "- Reproducible in the sense that we can release our dataset, but also in the sense that people could build upon our work and use the Bing API to make their own datasets (debatable here because Microsoft product, but this approach should work with any other search engine too)\n",
    "    \n",
    " \n",
    "- Bing API tiers\n",
    "    - Free: 3TPS, 1000 transactions per month\n",
    "    - S1: 250TPS, \\$7 per 1000 transactions\n",
    "    - S2: 100TPS, \\$3 per 1000 transactions"
   ]
  },
  {
   "cell_type": "markdown",
   "metadata": {},
   "source": [
    "# Number of pages to query"
   ]
  },
  {
   "cell_type": "code",
   "execution_count": 28,
   "metadata": {},
   "outputs": [],
   "source": [
    "page_titles = set()\n",
    "for e in edits:\n",
    "    page_titles.add(e['page_title'])"
   ]
  },
  {
   "cell_type": "code",
   "execution_count": 33,
   "metadata": {},
   "outputs": [],
   "source": [
    "# convert to list\n",
    "page_titles = list(page_titles)"
   ]
  },
  {
   "cell_type": "code",
   "execution_count": 34,
   "metadata": {},
   "outputs": [
    {
     "data": {
      "text/plain": [
       "11936"
      ]
     },
     "execution_count": 34,
     "metadata": {},
     "output_type": "execute_result"
    }
   ],
   "source": [
    "len(page_titles)"
   ]
  }
 ],
 "metadata": {
  "kernelspec": {
   "display_name": "Python 3",
   "language": "python",
   "name": "python3"
  },
  "language_info": {
   "codemirror_mode": {
    "name": "ipython",
    "version": 3
   },
   "file_extension": ".py",
   "mimetype": "text/x-python",
   "name": "python",
   "nbconvert_exporter": "python",
   "pygments_lexer": "ipython3",
   "version": "3.5.6"
  }
 },
 "nbformat": 4,
 "nbformat_minor": 4
}
